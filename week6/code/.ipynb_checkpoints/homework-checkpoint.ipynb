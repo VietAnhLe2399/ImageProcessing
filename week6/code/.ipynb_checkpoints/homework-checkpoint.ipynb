{
 "cells": [
  {
   "cell_type": "code",
   "execution_count": 4,
   "metadata": {},
   "outputs": [],
   "source": [
    "import numpy as np\n",
    "import cv2\n",
    "import matplotlib.pyplot as plt\n",
    "import os"
   ]
  },
  {
   "cell_type": "code",
   "execution_count": 5,
   "metadata": {},
   "outputs": [],
   "source": [
    "BASE_DIR = \"../data/\""
   ]
  },
  {
   "cell_type": "code",
   "execution_count": 6,
   "metadata": {},
   "outputs": [
    {
     "name": "stdout",
     "output_type": "stream",
     "text": [
      "01.jpg\n",
      "01\n",
      "02.jpg\n",
      "02\n",
      "03.jpg\n",
      "03\n",
      "04.jpg\n",
      "04\n",
      "05.jpg\n",
      "05\n"
     ]
    }
   ],
   "source": [
    "for file in os.listdir(BASE_DIR):\n",
    "    if '.jpg' in file:\n",
    "        print(file)\n",
    "        label = file.split(\".\")[0]\n",
    "        print(label)\n",
    "        \n",
    "        # Load input Image\n",
    "        image = cv2.imread(os.path.join(BASE_DIR, file), 0)\n",
    "        image_out = cv2.imread(os.path.join(BASE_DIR, file))\n",
    "        \n",
    "        # thresholding\n",
    "        if label == '01':\n",
    "            ret, thresh = cv2.threshold(image, 170, 255,cv2.THRESH_BINARY)\n",
    "            kernel = cv2.getStructuringElement(cv2.MORPH_RECT, (3,3))\n",
    "            opening = cv2.morphologyEx(thresh, cv2.MORPH_OPEN, kernel)\n",
    "            kernel = cv2.getStructuringElement(cv2.MORPH_RECT, (12, 12))\n",
    "            dilation = cv2.dilate(opening, kernel)\n",
    "            (contours, _) = cv2.findContours(dilation.copy(), cv2.RETR_EXTERNAL, cv2.CHAIN_APPROX_SIMPLE)\n",
    "            barcode = sorted(contours, key = cv2.contourArea, reverse = True)[2]\n",
    "            \n",
    "        if label == '02':\n",
    "            ret, thresh = cv2.threshold(image, 50, 255,cv2.THRESH_BINARY)\n",
    "            kernel = cv2.getStructuringElement(cv2.MORPH_RECT, (200,200))\n",
    "            opening = cv2.morphologyEx(thresh, cv2.MORPH_BLACKHAT, kernel)\n",
    "            kernel = cv2.getStructuringElement(cv2.MORPH_RECT, (130, 130))\n",
    "            dilation = cv2.dilate(opening, kernel)\n",
    "            (contours, _) = cv2.findContours(dilation.copy(), cv2.RETR_EXTERNAL, cv2.CHAIN_APPROX_SIMPLE)\n",
    "            barcode = sorted(contours, key = cv2.contourArea, reverse = True)[1]\n",
    "            \n",
    "        if label == '03':\n",
    "            ret, thresh = cv2.threshold(image, 150, 255,cv2.THRESH_BINARY)\n",
    "            kernel = cv2.getStructuringElement(cv2.MORPH_RECT, (200,200))\n",
    "            opening = cv2.morphologyEx(thresh, cv2.MORPH_BLACKHAT, kernel)\n",
    "            kernel = cv2.getStructuringElement(cv2.MORPH_RECT, (20, 20))\n",
    "            dilation = cv2.dilate(opening, kernel)\n",
    "            (contours, _) = cv2.findContours(dilation.copy(), cv2.RETR_EXTERNAL, cv2.CHAIN_APPROX_SIMPLE)\n",
    "            barcode = sorted(contours, key = cv2.contourArea, reverse = True)[5]\n",
    "            \n",
    "        if label == '04':\n",
    "            ret, thresh = cv2.threshold(image, 150, 255,cv2.THRESH_BINARY)\n",
    "            kernel = cv2.getStructuringElement(cv2.MORPH_RECT, (200,200))\n",
    "            opening = cv2.morphologyEx(thresh, cv2.MORPH_BLACKHAT, kernel)\n",
    "            kernel = cv2.getStructuringElement(cv2.MORPH_RECT, (20, 20))\n",
    "            dilation = cv2.dilate(opening, kernel)\n",
    "            (contours, _) = cv2.findContours(dilation.copy(), cv2.RETR_EXTERNAL, cv2.CHAIN_APPROX_SIMPLE)\n",
    "            barcode = sorted(contours, key = cv2.contourArea, reverse = True)[3]\n",
    "            \n",
    "        if label == '05':\n",
    "            ret, thresh = cv2.threshold(image, 200, 255,cv2.THRESH_BINARY)\n",
    "            kernel = cv2.getStructuringElement(cv2.MORPH_RECT, (1,1))\n",
    "            opening = cv2.morphologyEx(thresh, cv2.MORPH_OPEN, kernel)\n",
    "            kernel = cv2.getStructuringElement(cv2.MORPH_RECT, (50, 50))\n",
    "            dilation = cv2.dilate(opening, kernel)\n",
    "            (contours, _) = cv2.findContours(dilation.copy(), cv2.RETR_EXTERNAL, cv2.CHAIN_APPROX_SIMPLE)\n",
    "            barcode = sorted(contours, key = cv2.contourArea, reverse = True)[0]\n",
    "\n",
    "        rect = cv2.minAreaRect(barcode)\n",
    "        box = np.int0(cv2.boxPoints(rect))\n",
    "        cv2.drawContours(image_out, [box], 0, (0, 255, 0), 5)\n",
    "        \n",
    "        outdir = label + \"-result.jpg\"\n",
    "        cv2.imwrite(outdir, image_out)"
   ]
  },
  {
   "cell_type": "code",
   "execution_count": null,
   "metadata": {},
   "outputs": [],
   "source": []
  }
 ],
 "metadata": {
  "kernelspec": {
   "display_name": "Python 3",
   "language": "python",
   "name": "python3"
  },
  "language_info": {
   "codemirror_mode": {
    "name": "ipython",
    "version": 3
   },
   "file_extension": ".py",
   "mimetype": "text/x-python",
   "name": "python",
   "nbconvert_exporter": "python",
   "pygments_lexer": "ipython3",
   "version": "3.5.4"
  }
 },
 "nbformat": 4,
 "nbformat_minor": 2
}
